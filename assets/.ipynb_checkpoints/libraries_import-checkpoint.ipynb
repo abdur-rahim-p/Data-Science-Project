{
 "cells": [
  {
   "cell_type": "code",
   "execution_count": 1,
   "id": "84eba9bb",
   "metadata": {},
   "outputs": [],
   "source": [
    "\"\"\"All essential libraries that are going to br used across the project are imported within this file in order to \n",
    "make use of them throughout the project\"\"\"\n",
    "\n",
    "import time\n",
    "import datetime\n",
    "import numpy as np\n",
    "import pandas as pd\n",
    "import matplotlib.pyplot as plt\n",
    "%matplotlib inline\n",
    "import seaborn as sns\n",
    "import yfinance as yf\n",
    "from pandas.plotting import scatter_matrix\n",
    "import pandas_datareader as web"
   ]
  }
 ],
 "metadata": {
  "kernelspec": {
   "display_name": "Python 3 (ipykernel)",
   "language": "python",
   "name": "python3"
  },
  "language_info": {
   "codemirror_mode": {
    "name": "ipython",
    "version": 3
   },
   "file_extension": ".py",
   "mimetype": "text/x-python",
   "name": "python",
   "nbconvert_exporter": "python",
   "pygments_lexer": "ipython3",
   "version": "3.9.5"
  }
 },
 "nbformat": 4,
 "nbformat_minor": 5
}
